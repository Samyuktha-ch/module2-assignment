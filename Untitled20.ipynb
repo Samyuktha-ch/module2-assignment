{
  "nbformat": 4,
  "nbformat_minor": 0,
  "metadata": {
    "colab": {
      "name": "Untitled20.ipynb",
      "provenance": [],
      "collapsed_sections": [],
      "authorship_tag": "ABX9TyPAe3kMo6Jf2QojcAH7Ngp2",
      "include_colab_link": true
    },
    "kernelspec": {
      "name": "python3",
      "display_name": "Python 3"
    }
  },
  "cells": [
    {
      "cell_type": "markdown",
      "metadata": {
        "id": "view-in-github",
        "colab_type": "text"
      },
      "source": [
        "<a href=\"https://colab.research.google.com/github/Samyuktha-ch/module2-assignment/blob/master/Untitled20.ipynb\" target=\"_parent\"><img src=\"https://colab.research.google.com/assets/colab-badge.svg\" alt=\"Open In Colab\"/></a>"
      ]
    },
    {
      "cell_type": "code",
      "metadata": {
        "id": "krfb0wZqZlmc",
        "colab_type": "code",
        "colab": {
          "base_uri": "https://localhost:8080/",
          "height": 84
        },
        "outputId": "ed673bcf-888f-4719-fc2c-f7b421a5c5d6"
      },
      "source": [
        "#python program to find the maximum number\n",
        "num1=float(input(\"enter first number:\"))\n",
        "num2=float(input(\"enter second number:\"))\n",
        "num3=float(input(\"enter third number:\"))\n",
        "if(num1 >= num2) and (num1 >= num3):\n",
        "  largest = num1\n",
        "elif(num2 >= num1) and (num2 >= num3):\n",
        "  largest = num2\n",
        "else:\n",
        "  largest = num3\n",
        "print(\"the largest is\",largest)"
      ],
      "execution_count": 8,
      "outputs": [
        {
          "output_type": "stream",
          "text": [
            "enter first number:10\n",
            "enter second number:14\n",
            "enter third number:12\n",
            "the largest is 14.0\n"
          ],
          "name": "stdout"
        }
      ]
    },
    {
      "cell_type": "code",
      "metadata": {
        "id": "r3XHZTuAb561",
        "colab_type": "code",
        "colab": {
          "base_uri": "https://localhost:8080/",
          "height": 50
        },
        "outputId": "fb32b968-8600-4e5b-92b2-38783af30081"
      },
      "source": [
        "#python program to reverse a string\n",
        "def reverse(s):\n",
        "  str = \"\"\n",
        "  for i in s:\n",
        "    str = i + str\n",
        "  return str\n",
        "s = \"python programming\"\n",
        "print(\"the original string is : \",end=\"\")\n",
        "print(s)\n",
        "print(\"the reversed string is : \",end=\"\")\n",
        "print(reverse(s))"
      ],
      "execution_count": 9,
      "outputs": [
        {
          "output_type": "stream",
          "text": [
            "the original string is : python programming\n",
            "the reversed string is : gnimmargorp nohtyp\n"
          ],
          "name": "stdout"
        }
      ]
    },
    {
      "cell_type": "code",
      "metadata": {
        "id": "H0G9Q91Fdfxc",
        "colab_type": "code",
        "colab": {
          "base_uri": "https://localhost:8080/",
          "height": 67
        },
        "outputId": "6ad34619-cfda-4634-8598-202e223042a2"
      },
      "source": [
        "#python program to find whether the given number is primr or not\n",
        "num=int(input(\"enter a number\"))\n",
        "if num>1:\n",
        "  for i in range(2,num):\n",
        "   if(num%i)==0:\n",
        "     print(num,\"is not a prime number\")\n",
        "     print(i,\"times\",num//i,\"is\",num)\n",
        "     break\n",
        "  else:\n",
        "    print(num,\"is a prime number\")\n",
        "else:\n",
        "    print(num,\"is not a prime number\")\n",
        "\n"
      ],
      "execution_count": 13,
      "outputs": [
        {
          "output_type": "stream",
          "text": [
            "enter a number515\n",
            "515 is not a prime number\n",
            "5 times 103 is 515\n"
          ],
          "name": "stdout"
        }
      ]
    },
    {
      "cell_type": "code",
      "metadata": {
        "id": "bd__Hw3ofx80",
        "colab_type": "code",
        "colab": {
          "base_uri": "https://localhost:8080/",
          "height": 34
        },
        "outputId": "0da93276-cf79-4b93-a922-517f1cb59af5"
      },
      "source": [
        "#python program to find sum of square of first n natural numbers\n",
        "def squaresum(n) :\n",
        "  return (n * (n + 1) * (2 * n + 1))\n",
        "n = 6\n",
        "print(squaresum(n))"
      ],
      "execution_count": 14,
      "outputs": [
        {
          "output_type": "stream",
          "text": [
            "546\n"
          ],
          "name": "stdout"
        }
      ]
    },
    {
      "cell_type": "code",
      "metadata": {
        "id": "cQCXiFbSuiZh",
        "colab_type": "code",
        "colab": {
          "base_uri": "https://localhost:8080/",
          "height": 67
        },
        "outputId": "f1ec6c3e-bd5f-4e2f-b4ce-c9677f0a889e"
      },
      "source": [
        "#python program to check wether the given number is palindrome or not\n",
        "string=input(\"please enter a string:\")\n",
        "str1=\"\"\n",
        "for i in string:\n",
        "  str1=i+str1\n",
        "print(\"string in reverse order:\",str1)\n",
        "if(string==str1):\n",
        "  print(\"this is a palindrome string\")\n",
        "else:\n",
        "  print(\"this is not a palindrome string\") "
      ],
      "execution_count": 22,
      "outputs": [
        {
          "output_type": "stream",
          "text": [
            "please enter a string:madam\n",
            "string in reverse order: madam\n",
            "this is a palindrome string\n"
          ],
          "name": "stdout"
        }
      ]
    }
  ]
}